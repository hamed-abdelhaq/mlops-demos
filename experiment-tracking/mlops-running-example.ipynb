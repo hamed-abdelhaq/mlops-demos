{
 "cells": [
  {
   "cell_type": "code",
   "execution_count": 1,
   "metadata": {},
   "outputs": [],
   "source": [
    "import numpy as np\n",
    "import pandas as pd\n",
    "import matplotlib.pyplot as plt\n",
    "\n",
    "%matplotlib inline"
   ]
  },
  {
   "cell_type": "code",
   "execution_count": 46,
   "metadata": {},
   "outputs": [
    {
     "name": "stderr",
     "output_type": "stream",
     "text": [
      "2023/03/08 11:59:19 INFO mlflow.tracking.fluent: Experiment with name 'text-classification2' does not exist. Creating a new experiment.\n"
     ]
    },
    {
     "data": {
      "text/plain": [
       "<Experiment: artifact_location='file:///c:/projects/mlops-demos/experiment-tracking/mlruns/3', creation_time=1678269559591, experiment_id='3', last_update_time=1678269559591, lifecycle_stage='active', name='text-classification2', tags={}>"
      ]
     },
     "execution_count": 46,
     "metadata": {},
     "output_type": "execute_result"
    }
   ],
   "source": [
    "\n",
    "import mlflow\n",
    "\n",
    "mlflow.set_tracking_uri(\"sqlite:///mlflow.db\")\n",
    "mlflow.set_experiment(\"text-classification2\")"
   ]
  },
  {
   "cell_type": "code",
   "execution_count": 12,
   "metadata": {},
   "outputs": [
    {
     "data": {
      "text/html": [
       "<div>\n",
       "<style scoped>\n",
       "    .dataframe tbody tr th:only-of-type {\n",
       "        vertical-align: middle;\n",
       "    }\n",
       "\n",
       "    .dataframe tbody tr th {\n",
       "        vertical-align: top;\n",
       "    }\n",
       "\n",
       "    .dataframe thead th {\n",
       "        text-align: right;\n",
       "    }\n",
       "</style>\n",
       "<table border=\"1\" class=\"dataframe\">\n",
       "  <thead>\n",
       "    <tr style=\"text-align: right;\">\n",
       "      <th></th>\n",
       "      <th>id</th>\n",
       "      <th>label</th>\n",
       "      <th>text</th>\n",
       "    </tr>\n",
       "  </thead>\n",
       "  <tbody>\n",
       "    <tr>\n",
       "      <th>0</th>\n",
       "      <td>1</td>\n",
       "      <td>0</td>\n",
       "      <td>@user when a father is dysfunctional and is s...</td>\n",
       "    </tr>\n",
       "    <tr>\n",
       "      <th>1</th>\n",
       "      <td>2</td>\n",
       "      <td>0</td>\n",
       "      <td>@user @user thanks for #lyft credit i can't us...</td>\n",
       "    </tr>\n",
       "    <tr>\n",
       "      <th>2</th>\n",
       "      <td>3</td>\n",
       "      <td>0</td>\n",
       "      <td>bihday your majesty</td>\n",
       "    </tr>\n",
       "    <tr>\n",
       "      <th>3</th>\n",
       "      <td>4</td>\n",
       "      <td>0</td>\n",
       "      <td>#model   i love u take with u all the time in ...</td>\n",
       "    </tr>\n",
       "    <tr>\n",
       "      <th>4</th>\n",
       "      <td>5</td>\n",
       "      <td>0</td>\n",
       "      <td>factsguide: society now    #motivation</td>\n",
       "    </tr>\n",
       "    <tr>\n",
       "      <th>...</th>\n",
       "      <td>...</td>\n",
       "      <td>...</td>\n",
       "      <td>...</td>\n",
       "    </tr>\n",
       "    <tr>\n",
       "      <th>31957</th>\n",
       "      <td>31958</td>\n",
       "      <td>0</td>\n",
       "      <td>ate @user isz that youuu?ðððððð...</td>\n",
       "    </tr>\n",
       "    <tr>\n",
       "      <th>31958</th>\n",
       "      <td>31959</td>\n",
       "      <td>0</td>\n",
       "      <td>to see nina turner on the airwaves trying to...</td>\n",
       "    </tr>\n",
       "    <tr>\n",
       "      <th>31959</th>\n",
       "      <td>31960</td>\n",
       "      <td>0</td>\n",
       "      <td>listening to sad songs on a monday morning otw...</td>\n",
       "    </tr>\n",
       "    <tr>\n",
       "      <th>31960</th>\n",
       "      <td>31961</td>\n",
       "      <td>1</td>\n",
       "      <td>@user #sikh #temple vandalised in in #calgary,...</td>\n",
       "    </tr>\n",
       "    <tr>\n",
       "      <th>31961</th>\n",
       "      <td>31962</td>\n",
       "      <td>0</td>\n",
       "      <td>thank you @user for you follow</td>\n",
       "    </tr>\n",
       "  </tbody>\n",
       "</table>\n",
       "<p>31962 rows × 3 columns</p>\n",
       "</div>"
      ],
      "text/plain": [
       "          id  label                                               text\n",
       "0          1      0   @user when a father is dysfunctional and is s...\n",
       "1          2      0  @user @user thanks for #lyft credit i can't us...\n",
       "2          3      0                                bihday your majesty\n",
       "3          4      0  #model   i love u take with u all the time in ...\n",
       "4          5      0             factsguide: society now    #motivation\n",
       "...      ...    ...                                                ...\n",
       "31957  31958      0  ate @user isz that youuu?ðððððð...\n",
       "31958  31959      0    to see nina turner on the airwaves trying to...\n",
       "31959  31960      0  listening to sad songs on a monday morning otw...\n",
       "31960  31961      1  @user #sikh #temple vandalised in in #calgary,...\n",
       "31961  31962      0                   thank you @user for you follow  \n",
       "\n",
       "[31962 rows x 3 columns]"
      ]
     },
     "execution_count": 12,
     "metadata": {},
     "output_type": "execute_result"
    }
   ],
   "source": [
    "#Load Data\n",
    "import pandas as pd\n",
    "df_train = pd.read_csv('https://raw.githubusercontent.com/hamed-abdelhaq/spark-demos/master/data/deep-learning-datasets/twitter-sentiment-analysis/train_E6oV3lV.csv')\n",
    "df_train.columns = [\"id\", \"label\", \"text\"]\n",
    "\n",
    "df_test = pd.read_csv('https://raw.githubusercontent.com/hamed-abdelhaq/spark-demos/master/data/deep-learning-datasets/twitter-sentiment-analysis/test_tweets_anuFYb8.csv')\n",
    "df_test.columns = [\"id\",\"text\"]\n",
    "df_train"
   ]
  },
  {
   "cell_type": "code",
   "execution_count": 52,
   "metadata": {},
   "outputs": [],
   "source": [
    "from sklearn.model_selection import train_test_split\n",
    "\n",
    "X = df_train.text.values\n",
    "y = df_train.label.values\n",
    "\n",
    "X_train, X_val, y_train, y_val =\\\n",
    "    train_test_split(X, y, test_size=0.1, random_state=2020)"
   ]
  },
  {
   "cell_type": "code",
   "execution_count": 16,
   "metadata": {},
   "outputs": [
    {
     "name": "stderr",
     "output_type": "stream",
     "text": [
      "[nltk_data] Downloading package stopwords to\n",
      "[nltk_data]     C:\\Users\\Hamed\\AppData\\Roaming\\nltk_data...\n",
      "[nltk_data]   Package stopwords is already up-to-date!\n"
     ]
    }
   ],
   "source": [
    "import nltk\n",
    "\n",
    "nltk.download(\"stopwords\")\n",
    "from nltk.corpus import stopwords\n",
    "\n",
    "def text_preprocessing(s):\n",
    "\n",
    "    s = s.lower()\n",
    "    s = re.sub(r\"\\'t\", \" not\", s)\n",
    "    # Remove @name\n",
    "    s = re.sub(r'(@.*?)[\\s]', ' ', s)\n",
    "    # separate and remove punctuations except '?'\n",
    "    s = re.sub(r'([\\'\\\"\\.\\(\\)\\!\\?\\\\\\/\\,])', r' \\1 ', s)\n",
    "    s = re.sub(r'[^\\w\\s\\?]', ' ', s)\n",
    "    # Remove some special characters\n",
    "    s = re.sub(r'([\\;\\:\\|•«\\n])', ' ', s)\n",
    "    # Remove stopwords except 'not' and 'can'\n",
    "    s = \" \".join([word for word in s.split()\n",
    "                  if word not in stopwords.words('english')\n",
    "                  or word in ['not', 'can']])\n",
    "    # Remove trailing whitespace\n",
    "    s = re.sub(r'\\s+', ' ', s).strip()\n",
    "    \n",
    "    return s"
   ]
  },
  {
   "cell_type": "code",
   "execution_count": null,
   "metadata": {},
   "outputs": [],
   "source": [
    "%%time\n",
    "import re\n",
    "import numpy as np\n",
    "from sklearn.feature_extraction.text import TfidfVectorizer\n",
    "\n",
    "# Preprocess text\n",
    "X_train_preprocessed = np.array([text_preprocessing(text) for text in X_train])\n",
    "X_val_preprocessed = np.array([text_preprocessing(text) for text in X_val])\n",
    "\n",
    "\n",
    "\n"
   ]
  },
  {
   "cell_type": "code",
   "execution_count": 47,
   "metadata": {},
   "outputs": [],
   "source": [
    "from sklearn.model_selection import StratifiedKFold, cross_val_score\n",
    "\n",
    "def get_auc_CV(model):\n",
    "\n",
    "    # Set KFold to shuffle data before the split\n",
    "    kf = StratifiedKFold(5, shuffle=True, random_state=1)\n",
    "\n",
    "    # Get AUC scores\n",
    "    auc = cross_val_score(\n",
    "        model, X_train_tfidf, y_train, scoring=\"roc_auc\", cv=kf)\n",
    "\n",
    "    return auc.mean()"
   ]
  },
  {
   "cell_type": "code",
   "execution_count": null,
   "metadata": {},
   "outputs": [],
   "source": [
    "# Calculate TF-IDF\n",
    "tf_idf = TfidfVectorizer(ngram_range=(1, 3),\n",
    "                         binary=True,\n",
    "                         smooth_idf=False)\n",
    "X_train_tfidf = tf_idf.fit_transform(X_train_preprocessed)\n",
    "X_val_tfidf = tf_idf.transform(X_val_preprocessed)"
   ]
  },
  {
   "cell_type": "code",
   "execution_count": 63,
   "metadata": {},
   "outputs": [
    {
     "name": "stdout",
     "output_type": "stream",
     "text": [
      "1.0 2 1000\n",
      "1.0 2 2000\n",
      "1.0 2 3000\n",
      "1.0 2 4000\n",
      "1.0 2 5000\n",
      "1.0 2 6000\n",
      "1.0 2 7000\n",
      "1.0 2 8000\n",
      "1.0 2 9000\n",
      "1.0 3 1000\n",
      "1.0 3 2000\n",
      "1.0 3 3000\n",
      "1.0 3 4000\n",
      "1.0 3 5000\n",
      "1.0 3 6000\n",
      "1.0 3 7000\n",
      "1.0 3 8000\n",
      "1.0 3 9000\n",
      "1.2 2 1000\n",
      "1.2 2 2000\n",
      "1.2 2 3000\n",
      "1.2 2 4000\n",
      "1.2 2 5000\n",
      "1.2 2 6000\n",
      "1.2 2 7000\n",
      "1.2 2 8000\n",
      "1.2 2 9000\n",
      "1.2 3 1000\n",
      "1.2 3 2000\n",
      "1.2 3 3000\n",
      "1.2 3 4000\n",
      "1.2 3 5000\n",
      "1.2 3 6000\n",
      "1.2 3 7000\n",
      "1.2 3 8000\n",
      "1.2 3 9000\n",
      "1.4 2 1000\n",
      "1.4 2 2000\n",
      "1.4 2 3000\n",
      "1.4 2 4000\n",
      "1.4 2 5000\n",
      "1.4 2 6000\n",
      "1.4 2 7000\n",
      "1.4 2 8000\n",
      "1.4 2 9000\n",
      "1.4 3 1000\n",
      "1.4 3 2000\n",
      "1.4 3 3000\n",
      "1.4 3 4000\n",
      "1.4 3 5000\n",
      "1.4 3 6000\n",
      "1.4 3 7000\n",
      "1.4 3 8000\n",
      "1.4 3 9000\n",
      "1.5999999999999999 2 1000\n",
      "1.5999999999999999 2 2000\n",
      "1.5999999999999999 2 3000\n",
      "1.5999999999999999 2 4000\n",
      "1.5999999999999999 2 5000\n",
      "1.5999999999999999 2 6000\n",
      "1.5999999999999999 2 7000\n",
      "1.5999999999999999 2 8000\n",
      "1.5999999999999999 2 9000\n",
      "1.5999999999999999 3 1000\n",
      "1.5999999999999999 3 2000\n",
      "1.5999999999999999 3 3000\n",
      "1.5999999999999999 3 4000\n",
      "1.5999999999999999 3 5000\n",
      "1.5999999999999999 3 6000\n",
      "1.5999999999999999 3 7000\n",
      "1.5999999999999999 3 8000\n",
      "1.5999999999999999 3 9000\n",
      "1.7999999999999998 2 1000\n",
      "1.7999999999999998 2 2000\n",
      "1.7999999999999998 2 3000\n",
      "1.7999999999999998 2 4000\n",
      "1.7999999999999998 2 5000\n",
      "1.7999999999999998 2 6000\n",
      "1.7999999999999998 2 7000\n",
      "1.7999999999999998 2 8000\n",
      "1.7999999999999998 2 9000\n",
      "1.7999999999999998 3 1000\n",
      "1.7999999999999998 3 2000\n",
      "1.7999999999999998 3 3000\n",
      "1.7999999999999998 3 4000\n",
      "1.7999999999999998 3 5000\n",
      "1.7999999999999998 3 6000\n",
      "1.7999999999999998 3 7000\n",
      "1.7999999999999998 3 8000\n",
      "1.7999999999999998 3 9000\n"
     ]
    }
   ],
   "source": [
    "\n",
    "for alpha in np.arange(1, 2, 0.2):\n",
    "    for ngram in [2,3]:\n",
    "        for max_df in np.arange(1000, 10000, 1000):\n",
    "            with mlflow.start_run():\n",
    "                tf_idf = TfidfVectorizer(ngram_range=(1, ngram),\n",
    "                                    binary=True,\n",
    "                                    smooth_idf=False,\n",
    "                                    max_df = max_df)\n",
    "                X_train_tfidf = tf_idf.fit_transform(X_train_preprocessed)\n",
    "                X_val_tfidf = tf_idf.transform(X_val_preprocessed)\n",
    "\n",
    "                mlflow.set_tag(\"developer\", \"hamed\")\n",
    "                # Compute predicted probabilities\n",
    "                mlflow.log_param(\"alpha\", alpha)\n",
    "                mlflow.log_param(\"ngram\", ngram)\n",
    "                mlflow.log_param(\"max_df\", max_df)\n",
    "\n",
    "                print(alpha, ngram, max_df)\n",
    "\n",
    "                nb_model = MultinomialNB(alpha=alpha)\n",
    "                nb_model.fit(X_train_tfidf, y_train)\n",
    "                probs = nb_model.predict_proba(X_val_tfidf)\n",
    "\n",
    "                # Evaluate the classifier\n",
    "                auc, accuracy = evaluate_roc(probs, y_val)\n",
    "                mlflow.log_metric(\"auc\", auc)\n",
    "                mlflow.log_metric(\"accuracy\", accuracy)"
   ]
  },
  {
   "cell_type": "code",
   "execution_count": 29,
   "metadata": {},
   "outputs": [
    {
     "name": "stdout",
     "output_type": "stream",
     "text": [
      "Best alpha:  1.0\n"
     ]
    },
    {
     "data": {
      "image/png": "[encoded data removed]",
      "text/plain": [
       "<Figure size 640x480 with 1 Axes>"
      ]
     },
     "metadata": {},
     "output_type": "display_data"
    }
   ],
   "source": [
    "from sklearn.naive_bayes import MultinomialNB\n",
    "\n",
    "sub_res = [get_auc_CV(MultinomialNB(alpha=i)) for i in np.arange(1, 10, 0.1)]\n",
    "res = pd.Series(sub_res, index=np.arange(1, 10, 0.1))\n",
    "\n",
    "best_alpha = np.round(res.idxmax(), 2)\n",
    "print('Best alpha: ', best_alpha)\n",
    "\n",
    "plt.plot(res)\n",
    "plt.title('AUC vs. Alpha')\n",
    "plt.xlabel('Alpha')\n",
    "plt.ylabel('AUC')\n",
    "plt.show()"
   ]
  },
  {
   "cell_type": "code",
   "execution_count": 58,
   "metadata": {},
   "outputs": [],
   "source": [
    "from sklearn.metrics import accuracy_score, roc_curve\n",
    "from sklearn import metrics\n",
    "\n",
    "def evaluate_roc(probs, y_true1):\n",
    "    \"\"\"\n",
    "    - Print AUC and accuracy on the test set\n",
    "    - Plot ROC\n",
    "    @params    probs (np.array): an array of predicted probabilities with shape (len(y_true), 2)\n",
    "    @params    y_true (np.array): an array of the true values with shape (len(y_true),)\n",
    "    \"\"\"\n",
    "    preds = probs[:, 1]\n",
    "    fpr, tpr, threshold = roc_curve(y_true1, preds)\n",
    "    roc_auc = metrics.auc(fpr, tpr)\n",
    "    #print(f'AUC: {roc_auc:.4f}')\n",
    "       \n",
    "    # Get accuracy over the test set\n",
    "    y_pred = np.where(preds >= 0.5, 1, 0)\n",
    "    accuracy = accuracy_score(y_true1, y_pred)\n",
    "    #print(f'Accuracy: {accuracy*100:.2f}%')\n",
    "    \n",
    "    return roc_auc, accuracy\n",
    "    # # Plot ROC AUC\n",
    "    # plt.title('Receiver Operating Characteristic')\n",
    "    # plt.plot(fpr, tpr, 'b', label = 'AUC = %0.2f' % roc_auc)\n",
    "    # plt.legend(loc = 'lower right')\n",
    "    # plt.plot([0, 1], [0, 1],'r--')\n",
    "    # plt.xlim([0, 1])\n",
    "    # plt.ylim([0, 1])\n",
    "    # plt.ylabel('True Positive Rate')\n",
    "    # plt.xlabel('False Positive Rate')\n",
    "    # plt.show()"
   ]
  },
  {
   "cell_type": "code",
   "execution_count": 41,
   "metadata": {},
   "outputs": [],
   "source": [
    "with mlflow.start_run():\n",
    "    \n",
    "    mlflow.set_tag(\"developer\", \"hamed\")\n",
    "    # Compute predicted probabilities\n",
    "    alpha = 3\n",
    "    mlflow.log_param(\"alpha\", alpha)\n",
    "\n",
    "    nb_model = MultinomialNB(alpha=alpha)\n",
    "    nb_model.fit(X_train_tfidf, y_train)\n",
    "    probs = nb_model.predict_proba(X_val_tfidf)\n",
    "\n",
    "    # Evaluate the classifier\n",
    "    auc, accuracy = evaluate_roc(probs, y_val)\n",
    "    mlflow.log_metric(\"auc\", auc)\n",
    "    mlflow.log_metric(\"accuracy\", accuracy)"
   ]
  },
  {
   "cell_type": "code",
   "execution_count": 64,
   "metadata": {},
   "outputs": [],
   "source": [
    "import pickle"
   ]
  },
  {
   "cell_type": "code",
   "execution_count": 67,
   "metadata": {},
   "outputs": [],
   "source": [
    "import pickle\n",
    "# model tracking by maintaining artifacts\n",
    "with mlflow.start_run():\n",
    "    \n",
    "    mlflow.set_tag(\"developer\", \"hamed\")\n",
    "    # Compute predicted probabilities\n",
    "    alpha = 3\n",
    "    mlflow.log_param(\"alpha\", alpha)\n",
    "\n",
    "    nb_model = MultinomialNB(alpha=alpha)\n",
    "    nb_model.fit(X_train_tfidf, y_train)\n",
    "\n",
    "    pickle.dump(nb_model, open('models/model.pkl', 'wb'))\n",
    "\n",
    "    mlflow.log_artifact(local_path='models/model.pkl', artifact_path='models_pickles')\n",
    "\n",
    "    probs = nb_model.predict_proba(X_val_tfidf)\n",
    "\n",
    "    # Evaluate the classifier\n",
    "    auc, accuracy = evaluate_roc(probs, y_val)\n",
    "    mlflow.log_metric(\"auc\", auc)\n",
    "    mlflow.log_metric(\"accuracy\", accuracy)"
   ]
  },
  {
   "cell_type": "code",
   "execution_count": 71,
   "metadata": {},
   "outputs": [],
   "source": [
    "import pickle\n",
    "# # model tracking by logging model data and metadata\n",
    "with mlflow.start_run():\n",
    "    \n",
    "    mlflow.set_tag(\"developer\", \"hamed\")\n",
    "    # Compute predicted probabilities\n",
    "    alpha = 3\n",
    "    mlflow.log_param(\"alpha\", alpha)\n",
    "\n",
    "    nb_model = MultinomialNB(alpha=alpha)\n",
    "    nb_model.fit(X_train_tfidf, y_train)\n",
    "\n",
    "    pickle.dump(nb_model, open('models/model.pkl', 'wb'))\n",
    "\n",
    "    mlflow.sklearn.log_model(nb_model, 'models_pickles')\n",
    "\n",
    "    probs = nb_model.predict_proba(X_val_tfidf)\n",
    "\n",
    "    # Evaluate the classifier\n",
    "    auc, accuracy = evaluate_roc(probs, y_val)\n",
    "    mlflow.log_metric(\"auc\", auc)\n",
    "    mlflow.log_metric(\"accuracy\", accuracy)"
   ]
  },
  {
   "cell_type": "code",
   "execution_count": 74,
   "metadata": {},
   "outputs": [
    {
     "data": {
      "text/plain": [
       "mlflow.pyfunc.loaded_model:\n",
       "  artifact_path: models_pickles\n",
       "  flavor: mlflow.sklearn\n",
       "  run_id: 248549b6bfe24e10bc8c82d8a703704b"
      ]
     },
     "execution_count": 74,
     "metadata": {},
     "output_type": "execute_result"
    }
   ],
   "source": [
    "\n",
    "logged_model = 'runs:/248549b6bfe24e10bc8c82d8a703704b/models_pickles'\n",
    "\n",
    "# Load model as a PyFuncModel.\n",
    "loaded_model = mlflow.pyfunc.load_model(logged_model)\n",
    "loaded_model\n",
    "# # Predict on a Pandas DataFrame.\n",
    "# import pandas as pd\n",
    "# loaded_model.predict((X_val_tfidf))"
   ]
  }
 ],
 "metadata": {
  "kernelspec": {
   "display_name": "base",
   "language": "python",
   "name": "python3"
  },
  "language_info": {
   "codemirror_mode": {
    "name": "ipython",
    "version": 3
   },
   "file_extension": ".py",
   "mimetype": "text/x-python",
   "name": "python",
   "nbconvert_exporter": "python",
   "pygments_lexer": "ipython3",
   "version": "3.9.16"
  },
  "orig_nbformat": 4
 },
 "nbformat": 4,
 "nbformat_minor": 2
}
